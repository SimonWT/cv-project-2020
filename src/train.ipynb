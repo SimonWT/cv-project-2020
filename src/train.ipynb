{
 "metadata": {
  "language_info": {
   "codemirror_mode": {
    "name": "ipython",
    "version": 3
   },
   "file_extension": ".py",
   "mimetype": "text/x-python",
   "name": "python",
   "nbconvert_exporter": "python",
   "pygments_lexer": "ipython3",
   "version": 3
  },
  "orig_nbformat": 2
 },
 "nbformat": 4,
 "nbformat_minor": 2,
 "cells": [
  {
   "cell_type": "code",
   "execution_count": null,
   "metadata": {},
   "outputs": [],
   "source": [
    "import os, sys\n",
    "\n",
    "\n",
    "\n",
    "from config import config as configs\n",
    "\n",
    "from utils import saver\n",
    "importlib.reload(saver)\n",
    "importlib.reload(configs)\n",
    "\n",
    "%matplotlib inline"
   ]
  },
  {
   "cell_type": "code",
   "execution_count": null,
   "metadata": {},
   "outputs": [],
   "source": [
    "config = configs.get_configuration('./config/exp1.yaml')\n",
    "from pprint import pprint \n",
    "pprint(config)"
   ]
  },
  {
   "cell_type": "code",
   "execution_count": null,
   "metadata": {},
   "outputs": [],
   "source": [
    "def run(name):\n",
    "    os.system('python train.py '+ name)"
   ]
  },
  {
   "cell_type": "code",
   "execution_count": null,
   "metadata": {},
   "outputs": [],
   "source": [
    "def run_inference(config):\n",
    "#     config.model['load_state'] = '5'\n",
    "    model = models.get_model(config)\n",
    "    device = torch.device(\"cuda:0\" if torch.cuda.is_available() else \"cpu\")\n",
    "    test_loader = get_RegressionDataLoader(config, phase='test')\n",
    "    criterion = nn.MSELoss()\n",
    "    log_writer = saver.get_log_writer(config)\n",
    "    print('work with: ', config.name)\n",
    "    test_buffer = test(config, model, device, test_loader, criterion, phase='test')\n",
    "    \n",
    "fit_each_line(config, run_inference)"
   ]
  },
  {
   "cell_type": "code",
   "execution_count": null,
   "metadata": {},
   "outputs": [],
   "source": [
    "fit_each_line(config)"
   ]
  },
  {
   "cell_type": "code",
   "execution_count": null,
   "metadata": {},
   "outputs": [],
   "source": [
    "config = configs.get_configuration('./config/test_aug.yaml')\n",
    "config['training']['num_epochs'] = 2\n",
    "name = 'test03'\n",
    "config['name'] = name\n",
    "saver.dump_config(config)"
   ]
  },
  {
   "cell_type": "code",
   "execution_count": null,
   "metadata": {},
   "outputs": [],
   "source": [
    "def run_inference(config):\n",
    "#     config.model['load_state'] = '5'\n",
    "    model = models.get_model(config)\n",
    "    device = torch.device(\"cuda:0\" if torch.cuda.is_available() else \"cpu\")\n",
    "    test_loader = get_RegressionDataLoader(config, phase='test')\n",
    "    criterion = nn.MSELoss()\n",
    "    log_writer = saver.get_log_writer(config)\n",
    "    print('work with: ', config.name)\n",
    "    test_buffer = test(config, model, device, test_loader, criterion, phase='test')\n",
    "    \n",
    "fit_each_line(config, run_inference)"
   ]
  }
 ]
}